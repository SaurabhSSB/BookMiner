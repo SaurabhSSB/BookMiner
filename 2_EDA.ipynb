{
 "cells": [
  {
   "cell_type": "code",
   "execution_count": 1,
   "id": "a3431d4c-570e-4715-bc11-32b714fed6f9",
   "metadata": {},
   "outputs": [],
   "source": [
    "import numpy as np\n",
    "import pandas as pd \n",
    "import matplotlib.pyplot as plt\n",
    "import seaborn as sns"
   ]
  },
  {
   "cell_type": "code",
   "execution_count": 2,
   "id": "831f3619-498e-41a2-8881-59c5caf2caaf",
   "metadata": {},
   "outputs": [],
   "source": [
    "book= pd.read_csv(\"DATA.csv\")"
   ]
  },
  {
   "cell_type": "code",
   "execution_count": 3,
   "id": "17cd8bf8-2c29-4718-ad89-b1df1d89f6e8",
   "metadata": {},
   "outputs": [
    {
     "data": {
      "text/html": [
       "<div>\n",
       "<style scoped>\n",
       "    .dataframe tbody tr th:only-of-type {\n",
       "        vertical-align: middle;\n",
       "    }\n",
       "\n",
       "    .dataframe tbody tr th {\n",
       "        vertical-align: top;\n",
       "    }\n",
       "\n",
       "    .dataframe thead th {\n",
       "        text-align: right;\n",
       "    }\n",
       "</style>\n",
       "<table border=\"1\" class=\"dataframe\">\n",
       "  <thead>\n",
       "    <tr style=\"text-align: right;\">\n",
       "      <th></th>\n",
       "      <th>Title</th>\n",
       "      <th>Price</th>\n",
       "      <th>Rating</th>\n",
       "      <th>Availability</th>\n",
       "    </tr>\n",
       "  </thead>\n",
       "  <tbody>\n",
       "    <tr>\n",
       "      <th>0</th>\n",
       "      <td>A Light in the Attic</td>\n",
       "      <td>₹ 6031.2</td>\n",
       "      <td>Three</td>\n",
       "      <td>True</td>\n",
       "    </tr>\n",
       "    <tr>\n",
       "      <th>1</th>\n",
       "      <td>Tipping the Velvet</td>\n",
       "      <td>₹ 6260.71</td>\n",
       "      <td>One</td>\n",
       "      <td>True</td>\n",
       "    </tr>\n",
       "    <tr>\n",
       "      <th>2</th>\n",
       "      <td>Soumission</td>\n",
       "      <td>₹ 5836.65</td>\n",
       "      <td>One</td>\n",
       "      <td>True</td>\n",
       "    </tr>\n",
       "    <tr>\n",
       "      <th>3</th>\n",
       "      <td>Sharp Objects</td>\n",
       "      <td>₹ 5571.03</td>\n",
       "      <td>Four</td>\n",
       "      <td>True</td>\n",
       "    </tr>\n",
       "    <tr>\n",
       "      <th>4</th>\n",
       "      <td>Sapiens: A Brief History of Humankind</td>\n",
       "      <td>₹ 6317.8</td>\n",
       "      <td>Five</td>\n",
       "      <td>True</td>\n",
       "    </tr>\n",
       "  </tbody>\n",
       "</table>\n",
       "</div>"
      ],
      "text/plain": [
       "                                   Title      Price Rating  Availability\n",
       "0                   A Light in the Attic   ₹ 6031.2  Three          True\n",
       "1                     Tipping the Velvet  ₹ 6260.71    One          True\n",
       "2                             Soumission  ₹ 5836.65    One          True\n",
       "3                          Sharp Objects  ₹ 5571.03   Four          True\n",
       "4  Sapiens: A Brief History of Humankind   ₹ 6317.8   Five          True"
      ]
     },
     "execution_count": 3,
     "metadata": {},
     "output_type": "execute_result"
    }
   ],
   "source": [
    "book.head()"
   ]
  },
  {
   "cell_type": "code",
   "execution_count": 4,
   "id": "3d032ecf-0ec3-4f91-a85e-aaf5dda01565",
   "metadata": {},
   "outputs": [
    {
     "name": "stdout",
     "output_type": "stream",
     "text": [
      "<class 'pandas.core.frame.DataFrame'>\n",
      "RangeIndex: 1000 entries, 0 to 999\n",
      "Data columns (total 4 columns):\n",
      " #   Column        Non-Null Count  Dtype \n",
      "---  ------        --------------  ----- \n",
      " 0   Title         1000 non-null   object\n",
      " 1   Price         1000 non-null   object\n",
      " 2   Rating        1000 non-null   object\n",
      " 3   Availability  1000 non-null   bool  \n",
      "dtypes: bool(1), object(3)\n",
      "memory usage: 24.5+ KB\n"
     ]
    }
   ],
   "source": [
    "book.info()"
   ]
  },
  {
   "cell_type": "code",
   "execution_count": 5,
   "id": "c45736b5-c3fd-4dac-acda-122f56a2359a",
   "metadata": {},
   "outputs": [],
   "source": [
    "book_data= book.copy()\n",
    "book_data['Price'] = book_data['Price'].str.replace('₹', '', regex=False).str.strip().astype(float)"
   ]
  },
  {
   "cell_type": "code",
   "execution_count": 6,
   "id": "0f118525-3338-4d54-a6e2-6e58de0426d9",
   "metadata": {},
   "outputs": [
    {
     "data": {
      "text/html": [
       "<div>\n",
       "<style scoped>\n",
       "    .dataframe tbody tr th:only-of-type {\n",
       "        vertical-align: middle;\n",
       "    }\n",
       "\n",
       "    .dataframe tbody tr th {\n",
       "        vertical-align: top;\n",
       "    }\n",
       "\n",
       "    .dataframe thead th {\n",
       "        text-align: right;\n",
       "    }\n",
       "</style>\n",
       "<table border=\"1\" class=\"dataframe\">\n",
       "  <thead>\n",
       "    <tr style=\"text-align: right;\">\n",
       "      <th></th>\n",
       "      <th>Title</th>\n",
       "      <th>Price</th>\n",
       "      <th>Rating</th>\n",
       "      <th>Availability</th>\n",
       "    </tr>\n",
       "  </thead>\n",
       "  <tbody>\n",
       "    <tr>\n",
       "      <th>0</th>\n",
       "      <td>A Light in the Attic</td>\n",
       "      <td>6031.20</td>\n",
       "      <td>Three</td>\n",
       "      <td>True</td>\n",
       "    </tr>\n",
       "    <tr>\n",
       "      <th>1</th>\n",
       "      <td>Tipping the Velvet</td>\n",
       "      <td>6260.71</td>\n",
       "      <td>One</td>\n",
       "      <td>True</td>\n",
       "    </tr>\n",
       "    <tr>\n",
       "      <th>2</th>\n",
       "      <td>Soumission</td>\n",
       "      <td>5836.65</td>\n",
       "      <td>One</td>\n",
       "      <td>True</td>\n",
       "    </tr>\n",
       "    <tr>\n",
       "      <th>3</th>\n",
       "      <td>Sharp Objects</td>\n",
       "      <td>5571.03</td>\n",
       "      <td>Four</td>\n",
       "      <td>True</td>\n",
       "    </tr>\n",
       "    <tr>\n",
       "      <th>4</th>\n",
       "      <td>Sapiens: A Brief History of Humankind</td>\n",
       "      <td>6317.80</td>\n",
       "      <td>Five</td>\n",
       "      <td>True</td>\n",
       "    </tr>\n",
       "  </tbody>\n",
       "</table>\n",
       "</div>"
      ],
      "text/plain": [
       "                                   Title    Price Rating  Availability\n",
       "0                   A Light in the Attic  6031.20  Three          True\n",
       "1                     Tipping the Velvet  6260.71    One          True\n",
       "2                             Soumission  5836.65    One          True\n",
       "3                          Sharp Objects  5571.03   Four          True\n",
       "4  Sapiens: A Brief History of Humankind  6317.80   Five          True"
      ]
     },
     "execution_count": 6,
     "metadata": {},
     "output_type": "execute_result"
    }
   ],
   "source": [
    "book_data.head() "
   ]
  },
  {
   "cell_type": "code",
   "execution_count": 7,
   "id": "0e2a2fea-6783-43ef-994f-0bcd20029e75",
   "metadata": {},
   "outputs": [
    {
     "data": {
      "text/plain": [
       "Index(['Title', 'Price', 'Rating', 'Availability'], dtype='object')"
      ]
     },
     "execution_count": 7,
     "metadata": {},
     "output_type": "execute_result"
    }
   ],
   "source": [
    "book_data.columns"
   ]
  },
  {
   "cell_type": "code",
   "execution_count": 8,
   "id": "40466359-29dc-400f-85a5-c227c9de06d7",
   "metadata": {},
   "outputs": [],
   "source": [
    "book_data = book_data.rename(columns={'Price': 'PriceInRupees'})"
   ]
  },
  {
   "cell_type": "code",
   "execution_count": 9,
   "id": "1995c483-969d-449e-b314-7ffe457cc05f",
   "metadata": {},
   "outputs": [
    {
     "data": {
      "text/plain": [
       "Index(['Title', 'PriceInRupees', 'Rating', 'Availability'], dtype='object')"
      ]
     },
     "execution_count": 9,
     "metadata": {},
     "output_type": "execute_result"
    }
   ],
   "source": [
    "book_data.columns"
   ]
  },
  {
   "cell_type": "code",
   "execution_count": 10,
   "id": "eb05cdb7-37f4-4815-aefb-d80d9c11d3c1",
   "metadata": {},
   "outputs": [
    {
     "data": {
      "text/plain": [
       "(1000, 4)"
      ]
     },
     "execution_count": 10,
     "metadata": {},
     "output_type": "execute_result"
    }
   ],
   "source": [
    "book_data.shape"
   ]
  },
  {
   "cell_type": "code",
   "execution_count": 11,
   "id": "837e2ed6-8d34-450e-8b87-b3af79a18d7b",
   "metadata": {},
   "outputs": [
    {
     "data": {
      "text/plain": [
       "array(['Three', 'One', 'Four', 'Five', 'Two'], dtype=object)"
      ]
     },
     "execution_count": 11,
     "metadata": {},
     "output_type": "execute_result"
    }
   ],
   "source": [
    "book_data['Rating'].unique()"
   ]
  },
  {
   "cell_type": "code",
   "execution_count": 12,
   "id": "a6c51a8f-7dd7-4392-b4b1-3a95a0bc161b",
   "metadata": {},
   "outputs": [],
   "source": [
    "rating_conversion= {\n",
    "    \"One\": 1,\n",
    "    \"Two\": 2,\n",
    "    \"Three\": 3,\n",
    "    \"Four\": 4,\n",
    "    \"Five\": 5\n",
    "}\n",
    "book_data_1= book_data.copy()"
   ]
  },
  {
   "cell_type": "code",
   "execution_count": 13,
   "id": "989bc599-876d-49d3-ba38-cf47519ba3ce",
   "metadata": {},
   "outputs": [
    {
     "data": {
      "text/html": [
       "<div>\n",
       "<style scoped>\n",
       "    .dataframe tbody tr th:only-of-type {\n",
       "        vertical-align: middle;\n",
       "    }\n",
       "\n",
       "    .dataframe tbody tr th {\n",
       "        vertical-align: top;\n",
       "    }\n",
       "\n",
       "    .dataframe thead th {\n",
       "        text-align: right;\n",
       "    }\n",
       "</style>\n",
       "<table border=\"1\" class=\"dataframe\">\n",
       "  <thead>\n",
       "    <tr style=\"text-align: right;\">\n",
       "      <th></th>\n",
       "      <th>Title</th>\n",
       "      <th>PriceInRupees</th>\n",
       "      <th>Rating</th>\n",
       "      <th>Availability</th>\n",
       "    </tr>\n",
       "  </thead>\n",
       "  <tbody>\n",
       "    <tr>\n",
       "      <th>0</th>\n",
       "      <td>A Light in the Attic</td>\n",
       "      <td>6031.20</td>\n",
       "      <td>3</td>\n",
       "      <td>True</td>\n",
       "    </tr>\n",
       "    <tr>\n",
       "      <th>1</th>\n",
       "      <td>Tipping the Velvet</td>\n",
       "      <td>6260.71</td>\n",
       "      <td>1</td>\n",
       "      <td>True</td>\n",
       "    </tr>\n",
       "    <tr>\n",
       "      <th>2</th>\n",
       "      <td>Soumission</td>\n",
       "      <td>5836.65</td>\n",
       "      <td>1</td>\n",
       "      <td>True</td>\n",
       "    </tr>\n",
       "    <tr>\n",
       "      <th>3</th>\n",
       "      <td>Sharp Objects</td>\n",
       "      <td>5571.03</td>\n",
       "      <td>4</td>\n",
       "      <td>True</td>\n",
       "    </tr>\n",
       "    <tr>\n",
       "      <th>4</th>\n",
       "      <td>Sapiens: A Brief History of Humankind</td>\n",
       "      <td>6317.80</td>\n",
       "      <td>5</td>\n",
       "      <td>True</td>\n",
       "    </tr>\n",
       "  </tbody>\n",
       "</table>\n",
       "</div>"
      ],
      "text/plain": [
       "                                   Title  PriceInRupees  Rating  Availability\n",
       "0                   A Light in the Attic        6031.20       3          True\n",
       "1                     Tipping the Velvet        6260.71       1          True\n",
       "2                             Soumission        5836.65       1          True\n",
       "3                          Sharp Objects        5571.03       4          True\n",
       "4  Sapiens: A Brief History of Humankind        6317.80       5          True"
      ]
     },
     "execution_count": 13,
     "metadata": {},
     "output_type": "execute_result"
    }
   ],
   "source": [
    "book_data_1['Rating']= book_data_1['Rating'].map(rating_conversion)\n",
    "book_data_1.head()"
   ]
  },
  {
   "cell_type": "code",
   "execution_count": 14,
   "id": "2791f697-7818-464d-9673-ca624132453b",
   "metadata": {},
   "outputs": [
    {
     "name": "stdout",
     "output_type": "stream",
     "text": [
      "<class 'pandas.core.frame.DataFrame'>\n",
      "RangeIndex: 1000 entries, 0 to 999\n",
      "Data columns (total 4 columns):\n",
      " #   Column         Non-Null Count  Dtype  \n",
      "---  ------         --------------  -----  \n",
      " 0   Title          1000 non-null   object \n",
      " 1   PriceInRupees  1000 non-null   float64\n",
      " 2   Rating         1000 non-null   int64  \n",
      " 3   Availability   1000 non-null   bool   \n",
      "dtypes: bool(1), float64(1), int64(1), object(1)\n",
      "memory usage: 24.5+ KB\n"
     ]
    }
   ],
   "source": [
    "book_data_1.info()"
   ]
  },
  {
   "cell_type": "code",
   "execution_count": 15,
   "id": "1a59eb94-9023-4f70-8b96-714c0fd5132c",
   "metadata": {},
   "outputs": [
    {
     "data": {
      "text/plain": [
       "array([ True])"
      ]
     },
     "execution_count": 15,
     "metadata": {},
     "output_type": "execute_result"
    }
   ],
   "source": [
    "book_data_1['Availability'].unique()"
   ]
  },
  {
   "cell_type": "code",
   "execution_count": 16,
   "id": "fb194cef-66ae-4533-b178-8c862f7df69a",
   "metadata": {},
   "outputs": [],
   "source": [
    "not_required= ['Availability']\n",
    "book_data_2= book_data_1.copy().drop(columns= not_required)"
   ]
  },
  {
   "cell_type": "code",
   "execution_count": 17,
   "id": "5dd81f79-2de0-477f-a4a3-1b3c1f92df27",
   "metadata": {},
   "outputs": [
    {
     "data": {
      "text/html": [
       "<div>\n",
       "<style scoped>\n",
       "    .dataframe tbody tr th:only-of-type {\n",
       "        vertical-align: middle;\n",
       "    }\n",
       "\n",
       "    .dataframe tbody tr th {\n",
       "        vertical-align: top;\n",
       "    }\n",
       "\n",
       "    .dataframe thead th {\n",
       "        text-align: right;\n",
       "    }\n",
       "</style>\n",
       "<table border=\"1\" class=\"dataframe\">\n",
       "  <thead>\n",
       "    <tr style=\"text-align: right;\">\n",
       "      <th></th>\n",
       "      <th>Title</th>\n",
       "      <th>PriceInRupees</th>\n",
       "      <th>Rating</th>\n",
       "    </tr>\n",
       "  </thead>\n",
       "  <tbody>\n",
       "    <tr>\n",
       "      <th>0</th>\n",
       "      <td>A Light in the Attic</td>\n",
       "      <td>6031.20</td>\n",
       "      <td>3</td>\n",
       "    </tr>\n",
       "    <tr>\n",
       "      <th>1</th>\n",
       "      <td>Tipping the Velvet</td>\n",
       "      <td>6260.71</td>\n",
       "      <td>1</td>\n",
       "    </tr>\n",
       "    <tr>\n",
       "      <th>2</th>\n",
       "      <td>Soumission</td>\n",
       "      <td>5836.65</td>\n",
       "      <td>1</td>\n",
       "    </tr>\n",
       "    <tr>\n",
       "      <th>3</th>\n",
       "      <td>Sharp Objects</td>\n",
       "      <td>5571.03</td>\n",
       "      <td>4</td>\n",
       "    </tr>\n",
       "    <tr>\n",
       "      <th>4</th>\n",
       "      <td>Sapiens: A Brief History of Humankind</td>\n",
       "      <td>6317.80</td>\n",
       "      <td>5</td>\n",
       "    </tr>\n",
       "  </tbody>\n",
       "</table>\n",
       "</div>"
      ],
      "text/plain": [
       "                                   Title  PriceInRupees  Rating\n",
       "0                   A Light in the Attic        6031.20       3\n",
       "1                     Tipping the Velvet        6260.71       1\n",
       "2                             Soumission        5836.65       1\n",
       "3                          Sharp Objects        5571.03       4\n",
       "4  Sapiens: A Brief History of Humankind        6317.80       5"
      ]
     },
     "execution_count": 17,
     "metadata": {},
     "output_type": "execute_result"
    }
   ],
   "source": [
    "book_data_2.head()"
   ]
  },
  {
   "cell_type": "code",
   "execution_count": 18,
   "id": "47937c92-c8b0-4938-af59-2978a3f870ce",
   "metadata": {},
   "outputs": [
    {
     "data": {
      "text/html": [
       "<div>\n",
       "<style scoped>\n",
       "    .dataframe tbody tr th:only-of-type {\n",
       "        vertical-align: middle;\n",
       "    }\n",
       "\n",
       "    .dataframe tbody tr th {\n",
       "        vertical-align: top;\n",
       "    }\n",
       "\n",
       "    .dataframe thead th {\n",
       "        text-align: right;\n",
       "    }\n",
       "</style>\n",
       "<table border=\"1\" class=\"dataframe\">\n",
       "  <thead>\n",
       "    <tr style=\"text-align: right;\">\n",
       "      <th></th>\n",
       "      <th>Title</th>\n",
       "      <th>PriceInRupees</th>\n",
       "      <th>Rating</th>\n",
       "    </tr>\n",
       "  </thead>\n",
       "  <tbody>\n",
       "  </tbody>\n",
       "</table>\n",
       "</div>"
      ],
      "text/plain": [
       "Empty DataFrame\n",
       "Columns: [Title, PriceInRupees, Rating]\n",
       "Index: []"
      ]
     },
     "execution_count": 18,
     "metadata": {},
     "output_type": "execute_result"
    }
   ],
   "source": [
    "duplicates= book_data_2[book_data_2.duplicated()]\n",
    "duplicates"
   ]
  },
  {
   "cell_type": "code",
   "execution_count": 19,
   "id": "74b864e5-e406-4c70-be39-22512f591f7f",
   "metadata": {},
   "outputs": [
    {
     "name": "stdout",
     "output_type": "stream",
     "text": [
      "Title          : 999 unique values.\n",
      "PriceInRupees  : 903 unique values.\n",
      "Rating         : 005 unique values.\n"
     ]
    }
   ],
   "source": [
    "for i in book_data_2.columns:\n",
    "    print(f\"{i:<15}: {len(book_data_2[i].unique()):>03} unique values.\")"
   ]
  },
  {
   "cell_type": "code",
   "execution_count": 20,
   "id": "fde0a675-eeb1-498c-af3e-8665041c397c",
   "metadata": {},
   "outputs": [
    {
     "data": {
      "text/html": [
       "<div>\n",
       "<style scoped>\n",
       "    .dataframe tbody tr th:only-of-type {\n",
       "        vertical-align: middle;\n",
       "    }\n",
       "\n",
       "    .dataframe tbody tr th {\n",
       "        vertical-align: top;\n",
       "    }\n",
       "\n",
       "    .dataframe thead th {\n",
       "        text-align: right;\n",
       "    }\n",
       "</style>\n",
       "<table border=\"1\" class=\"dataframe\">\n",
       "  <thead>\n",
       "    <tr style=\"text-align: right;\">\n",
       "      <th></th>\n",
       "      <th>Title</th>\n",
       "      <th>PriceInRupees</th>\n",
       "      <th>Rating</th>\n",
       "    </tr>\n",
       "  </thead>\n",
       "  <tbody>\n",
       "    <tr>\n",
       "      <th>236</th>\n",
       "      <td>The Star-Touched Queen</td>\n",
       "      <td>5361.33</td>\n",
       "      <td>5</td>\n",
       "    </tr>\n",
       "    <tr>\n",
       "      <th>358</th>\n",
       "      <td>The Star-Touched Queen</td>\n",
       "      <td>3762.95</td>\n",
       "      <td>5</td>\n",
       "    </tr>\n",
       "  </tbody>\n",
       "</table>\n",
       "</div>"
      ],
      "text/plain": [
       "                      Title  PriceInRupees  Rating\n",
       "236  The Star-Touched Queen        5361.33       5\n",
       "358  The Star-Touched Queen        3762.95       5"
      ]
     },
     "execution_count": 20,
     "metadata": {},
     "output_type": "execute_result"
    }
   ],
   "source": [
    "duplicate= book_data_2[book_data_2['Title'].duplicated(keep= False)]\n",
    "duplicate"
   ]
  },
  {
   "cell_type": "code",
   "execution_count": 21,
   "id": "1830b3c4-ae94-4ed0-b837-a9126384c365",
   "metadata": {},
   "outputs": [
    {
     "data": {
      "text/html": [
       "<style type=\"text/css\">\n",
       "</style>\n",
       "<table id=\"T_9b76e\">\n",
       "  <thead>\n",
       "    <tr>\n",
       "      <th class=\"blank level0\" >&nbsp;</th>\n",
       "      <th id=\"T_9b76e_level0_col0\" class=\"col_heading level0 col0\" >count</th>\n",
       "      <th id=\"T_9b76e_level0_col1\" class=\"col_heading level0 col1\" >mean</th>\n",
       "      <th id=\"T_9b76e_level0_col2\" class=\"col_heading level0 col2\" >std</th>\n",
       "      <th id=\"T_9b76e_level0_col3\" class=\"col_heading level0 col3\" >min</th>\n",
       "      <th id=\"T_9b76e_level0_col4\" class=\"col_heading level0 col4\" >25%</th>\n",
       "      <th id=\"T_9b76e_level0_col5\" class=\"col_heading level0 col5\" >50%</th>\n",
       "      <th id=\"T_9b76e_level0_col6\" class=\"col_heading level0 col6\" >75%</th>\n",
       "      <th id=\"T_9b76e_level0_col7\" class=\"col_heading level0 col7\" >max</th>\n",
       "    </tr>\n",
       "  </thead>\n",
       "  <tbody>\n",
       "    <tr>\n",
       "      <th id=\"T_9b76e_level0_row0\" class=\"row_heading level0 row0\" >PriceInRupees</th>\n",
       "      <td id=\"T_9b76e_row0_col0\" class=\"data row0 col0\" >1000.00</td>\n",
       "      <td id=\"T_9b76e_row0_col1\" class=\"data row0 col1\" >4085.70</td>\n",
       "      <td id=\"T_9b76e_row0_col2\" class=\"data row0 col2\" >1683.04</td>\n",
       "      <td id=\"T_9b76e_row0_col3\" class=\"data row0 col3\" >1165.00</td>\n",
       "      <td id=\"T_9b76e_row0_col4\" class=\"data row0 col4\" >2575.53</td>\n",
       "      <td id=\"T_9b76e_row0_col5\" class=\"data row0 col5\" >4191.67</td>\n",
       "      <td id=\"T_9b76e_row0_col6\" class=\"data row0 col6\" >5528.80</td>\n",
       "      <td id=\"T_9b76e_row0_col7\" class=\"data row0 col7\" >6988.84</td>\n",
       "    </tr>\n",
       "    <tr>\n",
       "      <th id=\"T_9b76e_level0_row1\" class=\"row_heading level0 row1\" >Rating</th>\n",
       "      <td id=\"T_9b76e_row1_col0\" class=\"data row1 col0\" >1000.00</td>\n",
       "      <td id=\"T_9b76e_row1_col1\" class=\"data row1 col1\" >2.92</td>\n",
       "      <td id=\"T_9b76e_row1_col2\" class=\"data row1 col2\" >1.43</td>\n",
       "      <td id=\"T_9b76e_row1_col3\" class=\"data row1 col3\" >1.00</td>\n",
       "      <td id=\"T_9b76e_row1_col4\" class=\"data row1 col4\" >2.00</td>\n",
       "      <td id=\"T_9b76e_row1_col5\" class=\"data row1 col5\" >3.00</td>\n",
       "      <td id=\"T_9b76e_row1_col6\" class=\"data row1 col6\" >4.00</td>\n",
       "      <td id=\"T_9b76e_row1_col7\" class=\"data row1 col7\" >5.00</td>\n",
       "    </tr>\n",
       "  </tbody>\n",
       "</table>\n"
      ],
      "text/plain": [
       "<pandas.io.formats.style.Styler at 0x1b2ce92b8c0>"
      ]
     },
     "execution_count": 21,
     "metadata": {},
     "output_type": "execute_result"
    }
   ],
   "source": [
    "book_data_2.describe().transpose().style.format('{:.2f}')"
   ]
  },
  {
   "cell_type": "code",
   "execution_count": 22,
   "id": "66bb7fc8-cbcf-4142-bd6f-18c84ef02118",
   "metadata": {},
   "outputs": [
    {
     "data": {
      "text/plain": [
       "['Solarize_Light2',\n",
       " '_classic_test_patch',\n",
       " '_mpl-gallery',\n",
       " '_mpl-gallery-nogrid',\n",
       " 'bmh',\n",
       " 'classic',\n",
       " 'dark_background',\n",
       " 'fast',\n",
       " 'fivethirtyeight',\n",
       " 'ggplot',\n",
       " 'grayscale',\n",
       " 'petroff10',\n",
       " 'seaborn-v0_8',\n",
       " 'seaborn-v0_8-bright',\n",
       " 'seaborn-v0_8-colorblind',\n",
       " 'seaborn-v0_8-dark',\n",
       " 'seaborn-v0_8-dark-palette',\n",
       " 'seaborn-v0_8-darkgrid',\n",
       " 'seaborn-v0_8-deep',\n",
       " 'seaborn-v0_8-muted',\n",
       " 'seaborn-v0_8-notebook',\n",
       " 'seaborn-v0_8-paper',\n",
       " 'seaborn-v0_8-pastel',\n",
       " 'seaborn-v0_8-poster',\n",
       " 'seaborn-v0_8-talk',\n",
       " 'seaborn-v0_8-ticks',\n",
       " 'seaborn-v0_8-white',\n",
       " 'seaborn-v0_8-whitegrid',\n",
       " 'tableau-colorblind10']"
      ]
     },
     "execution_count": 22,
     "metadata": {},
     "output_type": "execute_result"
    }
   ],
   "source": [
    "plt.style.available"
   ]
  },
  {
   "cell_type": "code",
   "execution_count": 23,
   "id": "c22690c8-f0ec-4390-9ec8-2f68ac4f3dbe",
   "metadata": {},
   "outputs": [],
   "source": [
    "plt.style.use('bmh')"
   ]
  },
  {
   "cell_type": "code",
   "execution_count": 24,
   "id": "2f726c5b-b14a-4d2e-852b-4cd4da3132aa",
   "metadata": {},
   "outputs": [
    {
     "data": {
      "image/png": "[encoded data removed]",
      "text/plain": [
       "<Figure size 800x600 with 4 Axes>"
      ]
     },
     "metadata": {},
     "output_type": "display_data"
    }
   ],
   "source": [
    "fig, axs = plt.subplots(2, 2, figsize=(8, 6))\n",
    "titles = ['Price Distribution', 'Rating Distribution', 'Price Boxplot', 'Rating Boxplot']\n",
    "\n",
    "# Unpack axes from 2x2 grid\n",
    "ax1, ax2 = axs[0]\n",
    "ax3, ax4 = axs[1]\n",
    "\n",
    "# Plot using correct axes\n",
    "sns.histplot(data=book_data_2, x=\"PriceInRupees\", ax=ax1)\n",
    "sns.histplot(data=book_data_2, x=\"Rating\", color=\"#5AA9A2\", bins=np.arange(1, 6, 1), ax=ax2)\n",
    "\n",
    "sns.boxplot(x=book_data_2[\"PriceInRupees\"], ax=ax3)\n",
    "sns.boxplot(x=book_data_2[\"Rating\"], color=\"#5AA9A2\", ax=ax4)\n",
    "\n",
    "# Add titles\n",
    "ax1.set_title(titles[0])\n",
    "ax2.set_title(titles[1])\n",
    "ax3.set_title(titles[2])\n",
    "ax4.set_title(titles[3])\n",
    "fig.suptitle(f'Price & Rating Distributions', fontweight=\"bold\")\n",
    "\n",
    "plt.tight_layout()\n",
    "plt.show()"
   ]
  },
  {
   "cell_type": "code",
   "execution_count": 25,
   "id": "68faffe3-68b5-4ff1-930d-5e268393ab17",
   "metadata": {},
   "outputs": [
    {
     "name": "stdout",
     "output_type": "stream",
     "text": [
      "002: It\n",
      "205: At The Existentialist CafÃ©: Freedom, Being, and apricot cocktails with: Jean-Paul Sartre, Simone de Beauvoir, Albert Camus, Martin Heidegger, Edmund Husserl, Karl Jaspers, Maurice Merleau-Ponty and others\n"
     ]
    }
   ],
   "source": [
    "a= 1000\n",
    "b= 0 \n",
    "x= y= \"\"\n",
    "for i in book_data_2['Title']:\n",
    "    if a > len(i):\n",
    "        a= len(i)\n",
    "        x= i\n",
    "    elif b< len(i):\n",
    "        b= len(i)\n",
    "        y= i\n",
    "print(f\"{a:>03}: {x}\")\n",
    "print(f\"{b}: {y}\")"
   ]
  },
  {
   "cell_type": "code",
   "execution_count": 26,
   "id": "944cfbec-c74f-4d09-9056-f0e584032937",
   "metadata": {},
   "outputs": [
    {
     "name": "stdout",
     "output_type": "stream",
     "text": [
      "The pearson correlation coefficient between 'price' and 'rating' is: 0.03\n"
     ]
    }
   ],
   "source": [
    "corr_val = book_data_2[\"PriceInRupees\"].corr(book_data_2[\"Rating\"])\n",
    "print(f\"The pearson correlation coefficient between 'price' and 'rating' is: {round(corr_val, 3):.2f}\")"
   ]
  },
  {
   "cell_type": "code",
   "execution_count": 27,
   "id": "728f04c1-70d8-4b4f-8e8f-dfa77d69c9a2",
   "metadata": {},
   "outputs": [
    {
     "data": {
      "text/html": [
       "<div>\n",
       "<style scoped>\n",
       "    .dataframe tbody tr th:only-of-type {\n",
       "        vertical-align: middle;\n",
       "    }\n",
       "\n",
       "    .dataframe tbody tr th {\n",
       "        vertical-align: top;\n",
       "    }\n",
       "\n",
       "    .dataframe thead th {\n",
       "        text-align: right;\n",
       "    }\n",
       "</style>\n",
       "<table border=\"1\" class=\"dataframe\">\n",
       "  <thead>\n",
       "    <tr style=\"text-align: right;\">\n",
       "      <th></th>\n",
       "      <th>Title</th>\n",
       "      <th>PriceInRupees</th>\n",
       "      <th>Rating</th>\n",
       "    </tr>\n",
       "    <tr>\n",
       "      <th>BookID</th>\n",
       "      <th></th>\n",
       "      <th></th>\n",
       "      <th></th>\n",
       "    </tr>\n",
       "  </thead>\n",
       "  <tbody>\n",
       "    <tr>\n",
       "      <th>ID-1001</th>\n",
       "      <td>A Light in the Attic</td>\n",
       "      <td>6031.20</td>\n",
       "      <td>3</td>\n",
       "    </tr>\n",
       "    <tr>\n",
       "      <th>ID-1002</th>\n",
       "      <td>Tipping the Velvet</td>\n",
       "      <td>6260.71</td>\n",
       "      <td>1</td>\n",
       "    </tr>\n",
       "    <tr>\n",
       "      <th>ID-1003</th>\n",
       "      <td>Soumission</td>\n",
       "      <td>5836.65</td>\n",
       "      <td>1</td>\n",
       "    </tr>\n",
       "    <tr>\n",
       "      <th>ID-1004</th>\n",
       "      <td>Sharp Objects</td>\n",
       "      <td>5571.03</td>\n",
       "      <td>4</td>\n",
       "    </tr>\n",
       "    <tr>\n",
       "      <th>ID-1005</th>\n",
       "      <td>Sapiens: A Brief History of Humankind</td>\n",
       "      <td>6317.80</td>\n",
       "      <td>5</td>\n",
       "    </tr>\n",
       "  </tbody>\n",
       "</table>\n",
       "</div>"
      ],
      "text/plain": [
       "                                         Title  PriceInRupees  Rating\n",
       "BookID                                                               \n",
       "ID-1001                   A Light in the Attic        6031.20       3\n",
       "ID-1002                     Tipping the Velvet        6260.71       1\n",
       "ID-1003                             Soumission        5836.65       1\n",
       "ID-1004                          Sharp Objects        5571.03       4\n",
       "ID-1005  Sapiens: A Brief History of Humankind        6317.80       5"
      ]
     },
     "execution_count": 27,
     "metadata": {},
     "output_type": "execute_result"
    }
   ],
   "source": [
    "book_data_3= book_data_2.copy()\n",
    "# create custom index column\n",
    "custom_index_col = pd.RangeIndex(start=1001, stop=1001+len(book_data_3), step=1, name='BookID')\n",
    "\n",
    "# add index column to dataframe\n",
    "book_data_3.index = custom_index_col\n",
    "book_data_3.index = 'ID-' + book_data_3.index.astype('string')\n",
    "\n",
    "# view glimpse of data\n",
    "book_data_3.head()"
   ]
  },
  {
   "cell_type": "code",
   "execution_count": 28,
   "id": "9d7e597a-5284-4c69-a9e3-0582d6484787",
   "metadata": {},
   "outputs": [
    {
     "data": {
      "image/png": "[encoded data removed]",
      "text/plain": [
       "<Figure size 640x480 with 1 Axes>"
      ]
     },
     "metadata": {},
     "output_type": "display_data"
    }
   ],
   "source": [
    "sns.scatterplot(x= 'PriceInRupees', y= \"Rating\", data= book_data_3)\n",
    "plt.show()"
   ]
  },
  {
   "cell_type": "code",
   "execution_count": 29,
   "id": "9f919a0a-bd36-4564-9f57-ebeb495830f9",
   "metadata": {},
   "outputs": [
    {
     "name": "stdout",
     "output_type": "stream",
     "text": [
      "1165.0\n"
     ]
    }
   ],
   "source": [
    "print(min([x for x in book_data_3['PriceInRupees']]))\n"
   ]
  },
  {
   "cell_type": "code",
   "execution_count": 30,
   "id": "1880d177-31b7-4521-a8ca-0608334fecd1",
   "metadata": {},
   "outputs": [],
   "source": [
    "book_data_3['ValueScore'] = book_data_3['Rating'] / book_data_3['PriceInRupees']"
   ]
  },
  {
   "cell_type": "code",
   "execution_count": 31,
   "id": "12cd5e7b-139a-4e94-9059-a39893a38a7e",
   "metadata": {},
   "outputs": [
    {
     "data": {
      "text/html": [
       "<div>\n",
       "<style scoped>\n",
       "    .dataframe tbody tr th:only-of-type {\n",
       "        vertical-align: middle;\n",
       "    }\n",
       "\n",
       "    .dataframe tbody tr th {\n",
       "        vertical-align: top;\n",
       "    }\n",
       "\n",
       "    .dataframe thead th {\n",
       "        text-align: right;\n",
       "    }\n",
       "</style>\n",
       "<table border=\"1\" class=\"dataframe\">\n",
       "  <thead>\n",
       "    <tr style=\"text-align: right;\">\n",
       "      <th></th>\n",
       "      <th>Title</th>\n",
       "      <th>PriceInRupees</th>\n",
       "      <th>Rating</th>\n",
       "      <th>ValueScore</th>\n",
       "    </tr>\n",
       "    <tr>\n",
       "      <th>BookID</th>\n",
       "      <th></th>\n",
       "      <th></th>\n",
       "      <th></th>\n",
       "      <th></th>\n",
       "    </tr>\n",
       "  </thead>\n",
       "  <tbody>\n",
       "    <tr>\n",
       "      <th>ID-1001</th>\n",
       "      <td>A Light in the Attic</td>\n",
       "      <td>6031.20</td>\n",
       "      <td>3</td>\n",
       "      <td>0.000497</td>\n",
       "    </tr>\n",
       "    <tr>\n",
       "      <th>ID-1002</th>\n",
       "      <td>Tipping the Velvet</td>\n",
       "      <td>6260.71</td>\n",
       "      <td>1</td>\n",
       "      <td>0.000160</td>\n",
       "    </tr>\n",
       "    <tr>\n",
       "      <th>ID-1003</th>\n",
       "      <td>Soumission</td>\n",
       "      <td>5836.65</td>\n",
       "      <td>1</td>\n",
       "      <td>0.000171</td>\n",
       "    </tr>\n",
       "    <tr>\n",
       "      <th>ID-1004</th>\n",
       "      <td>Sharp Objects</td>\n",
       "      <td>5571.03</td>\n",
       "      <td>4</td>\n",
       "      <td>0.000718</td>\n",
       "    </tr>\n",
       "    <tr>\n",
       "      <th>ID-1005</th>\n",
       "      <td>Sapiens: A Brief History of Humankind</td>\n",
       "      <td>6317.80</td>\n",
       "      <td>5</td>\n",
       "      <td>0.000791</td>\n",
       "    </tr>\n",
       "  </tbody>\n",
       "</table>\n",
       "</div>"
      ],
      "text/plain": [
       "                                         Title  PriceInRupees  Rating  \\\n",
       "BookID                                                                  \n",
       "ID-1001                   A Light in the Attic        6031.20       3   \n",
       "ID-1002                     Tipping the Velvet        6260.71       1   \n",
       "ID-1003                             Soumission        5836.65       1   \n",
       "ID-1004                          Sharp Objects        5571.03       4   \n",
       "ID-1005  Sapiens: A Brief History of Humankind        6317.80       5   \n",
       "\n",
       "         ValueScore  \n",
       "BookID               \n",
       "ID-1001    0.000497  \n",
       "ID-1002    0.000160  \n",
       "ID-1003    0.000171  \n",
       "ID-1004    0.000718  \n",
       "ID-1005    0.000791  "
      ]
     },
     "execution_count": 31,
     "metadata": {},
     "output_type": "execute_result"
    }
   ],
   "source": [
    "book_data_3.head()"
   ]
  },
  {
   "cell_type": "code",
   "execution_count": 32,
   "id": "82d23a8f-bac3-4ee7-90cd-858d5365a00e",
   "metadata": {},
   "outputs": [
    {
     "name": "stdout",
     "output_type": "stream",
     "text": [
      "0.00014392506685319354\n",
      "0.004291845493562232\n"
     ]
    }
   ],
   "source": [
    "print(book_data_3['ValueScore'].min())\n",
    "print(book_data_3['ValueScore'].max())"
   ]
  },
  {
   "cell_type": "code",
   "execution_count": 33,
   "id": "cec6fae6-0831-4d06-a853-334ff632b1b0",
   "metadata": {},
   "outputs": [],
   "source": [
    "book_data_4= book_data_3.copy()\n",
    "book_data_4['ValueScore']= (book_data_4['ValueScore']- book_data_3['ValueScore'].min())/(book_data_3['ValueScore'].max() - book_data_3['ValueScore'].min())"
   ]
  },
  {
   "cell_type": "code",
   "execution_count": 34,
   "id": "79b18a86-9334-4789-a9e7-c48c556c733e",
   "metadata": {},
   "outputs": [
    {
     "name": "stdout",
     "output_type": "stream",
     "text": [
      "0.0\n",
      "1.0\n"
     ]
    }
   ],
   "source": [
    "print(book_data_4['ValueScore'].min())\n",
    "print(book_data_4['ValueScore'].max())"
   ]
  },
  {
   "cell_type": "code",
   "execution_count": 35,
   "id": "aa0b6958-0a5f-481c-b222-ab53a5ab9967",
   "metadata": {},
   "outputs": [
    {
     "data": {
      "text/html": [
       "<div>\n",
       "<style scoped>\n",
       "    .dataframe tbody tr th:only-of-type {\n",
       "        vertical-align: middle;\n",
       "    }\n",
       "\n",
       "    .dataframe tbody tr th {\n",
       "        vertical-align: top;\n",
       "    }\n",
       "\n",
       "    .dataframe thead th {\n",
       "        text-align: right;\n",
       "    }\n",
       "</style>\n",
       "<table border=\"1\" class=\"dataframe\">\n",
       "  <thead>\n",
       "    <tr style=\"text-align: right;\">\n",
       "      <th></th>\n",
       "      <th>Title</th>\n",
       "      <th>PriceInRupees</th>\n",
       "      <th>Rating</th>\n",
       "      <th>ValueScore</th>\n",
       "    </tr>\n",
       "    <tr>\n",
       "      <th>BookID</th>\n",
       "      <th></th>\n",
       "      <th></th>\n",
       "      <th></th>\n",
       "      <th></th>\n",
       "    </tr>\n",
       "  </thead>\n",
       "  <tbody>\n",
       "    <tr>\n",
       "      <th>ID-1001</th>\n",
       "      <td>A Light in the Attic</td>\n",
       "      <td>6031.20</td>\n",
       "      <td>3</td>\n",
       "      <td>0.085221</td>\n",
       "    </tr>\n",
       "    <tr>\n",
       "      <th>ID-1002</th>\n",
       "      <td>Tipping the Velvet</td>\n",
       "      <td>6260.71</td>\n",
       "      <td>1</td>\n",
       "      <td>0.003809</td>\n",
       "    </tr>\n",
       "    <tr>\n",
       "      <th>ID-1003</th>\n",
       "      <td>Soumission</td>\n",
       "      <td>5836.65</td>\n",
       "      <td>1</td>\n",
       "      <td>0.006607</td>\n",
       "    </tr>\n",
       "    <tr>\n",
       "      <th>ID-1004</th>\n",
       "      <td>Sharp Objects</td>\n",
       "      <td>5571.03</td>\n",
       "      <td>4</td>\n",
       "      <td>0.138401</td>\n",
       "    </tr>\n",
       "    <tr>\n",
       "      <th>ID-1005</th>\n",
       "      <td>Sapiens: A Brief History of Humankind</td>\n",
       "      <td>6317.80</td>\n",
       "      <td>5</td>\n",
       "      <td>0.156100</td>\n",
       "    </tr>\n",
       "  </tbody>\n",
       "</table>\n",
       "</div>"
      ],
      "text/plain": [
       "                                         Title  PriceInRupees  Rating  \\\n",
       "BookID                                                                  \n",
       "ID-1001                   A Light in the Attic        6031.20       3   \n",
       "ID-1002                     Tipping the Velvet        6260.71       1   \n",
       "ID-1003                             Soumission        5836.65       1   \n",
       "ID-1004                          Sharp Objects        5571.03       4   \n",
       "ID-1005  Sapiens: A Brief History of Humankind        6317.80       5   \n",
       "\n",
       "         ValueScore  \n",
       "BookID               \n",
       "ID-1001    0.085221  \n",
       "ID-1002    0.003809  \n",
       "ID-1003    0.006607  \n",
       "ID-1004    0.138401  \n",
       "ID-1005    0.156100  "
      ]
     },
     "execution_count": 35,
     "metadata": {},
     "output_type": "execute_result"
    }
   ],
   "source": [
    "book_data_4.head()"
   ]
  },
  {
   "cell_type": "code",
   "execution_count": 36,
   "id": "58a24b2f-e24f-4f24-a19a-b35ab033b597",
   "metadata": {},
   "outputs": [
    {
     "data": {
      "image/png": "[encoded data removed]",
      "text/plain": [
       "<Figure size 640x480 with 1 Axes>"
      ]
     },
     "metadata": {},
     "output_type": "display_data"
    }
   ],
   "source": [
    "plt.hist(book_data_4['PriceInRupees'], bins=4, weights=book_data_4['ValueScore'])\n",
    "plt.xlabel('Value Score of Book')\n",
    "plt.ylabel('Count')\n",
    "\n",
    "plt.show()"
   ]
  },
  {
   "cell_type": "code",
   "execution_count": 37,
   "id": "865ffa15-7d90-4434-90c1-1cfd339f36df",
   "metadata": {},
   "outputs": [],
   "source": [
    "book_data_5= book_data_4.sort_values(by= 'ValueScore', ascending= False).copy()"
   ]
  },
  {
   "cell_type": "code",
   "execution_count": 38,
   "id": "c4f2f2b2-dfde-4ef3-893a-e152b4b31c79",
   "metadata": {},
   "outputs": [
    {
     "data": {
      "text/html": [
       "<div>\n",
       "<style scoped>\n",
       "    .dataframe tbody tr th:only-of-type {\n",
       "        vertical-align: middle;\n",
       "    }\n",
       "\n",
       "    .dataframe tbody tr th {\n",
       "        vertical-align: top;\n",
       "    }\n",
       "\n",
       "    .dataframe thead th {\n",
       "        text-align: right;\n",
       "    }\n",
       "</style>\n",
       "<table border=\"1\" class=\"dataframe\">\n",
       "  <thead>\n",
       "    <tr style=\"text-align: right;\">\n",
       "      <th></th>\n",
       "      <th>Title</th>\n",
       "      <th>PriceInRupees</th>\n",
       "      <th>Rating</th>\n",
       "      <th>ValueScore</th>\n",
       "    </tr>\n",
       "    <tr>\n",
       "      <th>BookID</th>\n",
       "      <th></th>\n",
       "      <th></th>\n",
       "      <th></th>\n",
       "      <th></th>\n",
       "    </tr>\n",
       "  </thead>\n",
       "  <tbody>\n",
       "    <tr>\n",
       "      <th>ID-1639</th>\n",
       "      <td>An Abundance of Katherines</td>\n",
       "      <td>1165.00</td>\n",
       "      <td>5</td>\n",
       "      <td>1.000000</td>\n",
       "    </tr>\n",
       "    <tr>\n",
       "      <th>ID-1303</th>\n",
       "      <td>Greek Mythic History</td>\n",
       "      <td>1191.80</td>\n",
       "      <td>5</td>\n",
       "      <td>0.976733</td>\n",
       "    </tr>\n",
       "    <tr>\n",
       "      <th>ID-1591</th>\n",
       "      <td>The Power Greens Cookbook: 140 Delicious Super...</td>\n",
       "      <td>1287.33</td>\n",
       "      <td>5</td>\n",
       "      <td>0.901677</td>\n",
       "    </tr>\n",
       "    <tr>\n",
       "      <th>ID-1317</th>\n",
       "      <td>Dear Mr. Knightley</td>\n",
       "      <td>1305.97</td>\n",
       "      <td>5</td>\n",
       "      <td>0.888312</td>\n",
       "    </tr>\n",
       "    <tr>\n",
       "      <th>ID-1602</th>\n",
       "      <td>The Darkest Corners</td>\n",
       "      <td>1319.94</td>\n",
       "      <td>5</td>\n",
       "      <td>0.878543</td>\n",
       "    </tr>\n",
       "  </tbody>\n",
       "</table>\n",
       "</div>"
      ],
      "text/plain": [
       "                                                     Title  PriceInRupees  \\\n",
       "BookID                                                                      \n",
       "ID-1639                         An Abundance of Katherines        1165.00   \n",
       "ID-1303                               Greek Mythic History        1191.80   \n",
       "ID-1591  The Power Greens Cookbook: 140 Delicious Super...        1287.33   \n",
       "ID-1317                                 Dear Mr. Knightley        1305.97   \n",
       "ID-1602                                The Darkest Corners        1319.94   \n",
       "\n",
       "         Rating  ValueScore  \n",
       "BookID                       \n",
       "ID-1639       5    1.000000  \n",
       "ID-1303       5    0.976733  \n",
       "ID-1591       5    0.901677  \n",
       "ID-1317       5    0.888312  \n",
       "ID-1602       5    0.878543  "
      ]
     },
     "execution_count": 38,
     "metadata": {},
     "output_type": "execute_result"
    }
   ],
   "source": [
    "book_data_5.head()"
   ]
  },
  {
   "cell_type": "code",
   "execution_count": 39,
   "id": "c37d1f55-7e18-40e0-9e47-3098b4125ebc",
   "metadata": {},
   "outputs": [
    {
     "data": {
      "image/png": "[encoded data removed]",
      "text/plain": [
       "<Figure size 640x480 with 1 Axes>"
      ]
     },
     "metadata": {},
     "output_type": "display_data"
    }
   ],
   "source": [
    "sns.histplot(book_data_4['ValueScore'],bins= 5, label= \"Frequency of Value Score\")\n",
    "plt.xlabel(\"Value Score\") \n",
    "plt.ylabel(\"Frequency\")\n",
    "plt.title(\"Histogram\")\n",
    "plt.legend()\n",
    "plt.tight_layout()\n",
    "plt.show()"
   ]
  },
  {
   "cell_type": "code",
   "execution_count": 40,
   "id": "6156a62a-f0b5-4520-9818-f4580205f38e",
   "metadata": {},
   "outputs": [],
   "source": [
    "book_data_6= book_data_5.copy()\n",
    "book_data_6['ValueScoreGroup'] = pd.cut(book_data_6['ValueScore'],\n",
    "                                    bins=[-0.01, 0.33, 0.66, 1.01],\n",
    "                                    labels=['Low', 'Medium', 'High'])\n"
   ]
  },
  {
   "cell_type": "code",
   "execution_count": 41,
   "id": "f76934c5-d736-44c5-a167-380aab783fe7",
   "metadata": {},
   "outputs": [
    {
     "data": {
      "text/html": [
       "<div>\n",
       "<style scoped>\n",
       "    .dataframe tbody tr th:only-of-type {\n",
       "        vertical-align: middle;\n",
       "    }\n",
       "\n",
       "    .dataframe tbody tr th {\n",
       "        vertical-align: top;\n",
       "    }\n",
       "\n",
       "    .dataframe thead th {\n",
       "        text-align: right;\n",
       "    }\n",
       "</style>\n",
       "<table border=\"1\" class=\"dataframe\">\n",
       "  <thead>\n",
       "    <tr style=\"text-align: right;\">\n",
       "      <th></th>\n",
       "      <th>Title</th>\n",
       "      <th>PriceInRupees</th>\n",
       "      <th>Rating</th>\n",
       "      <th>ValueScore</th>\n",
       "      <th>ValueScoreGroup</th>\n",
       "    </tr>\n",
       "    <tr>\n",
       "      <th>BookID</th>\n",
       "      <th></th>\n",
       "      <th></th>\n",
       "      <th></th>\n",
       "      <th></th>\n",
       "      <th></th>\n",
       "    </tr>\n",
       "  </thead>\n",
       "  <tbody>\n",
       "    <tr>\n",
       "      <th>ID-1639</th>\n",
       "      <td>An Abundance of Katherines</td>\n",
       "      <td>1165.00</td>\n",
       "      <td>5</td>\n",
       "      <td>1.000000</td>\n",
       "      <td>High</td>\n",
       "    </tr>\n",
       "    <tr>\n",
       "      <th>ID-1303</th>\n",
       "      <td>Greek Mythic History</td>\n",
       "      <td>1191.80</td>\n",
       "      <td>5</td>\n",
       "      <td>0.976733</td>\n",
       "      <td>High</td>\n",
       "    </tr>\n",
       "    <tr>\n",
       "      <th>ID-1591</th>\n",
       "      <td>The Power Greens Cookbook: 140 Delicious Super...</td>\n",
       "      <td>1287.33</td>\n",
       "      <td>5</td>\n",
       "      <td>0.901677</td>\n",
       "      <td>High</td>\n",
       "    </tr>\n",
       "    <tr>\n",
       "      <th>ID-1317</th>\n",
       "      <td>Dear Mr. Knightley</td>\n",
       "      <td>1305.97</td>\n",
       "      <td>5</td>\n",
       "      <td>0.888312</td>\n",
       "      <td>High</td>\n",
       "    </tr>\n",
       "    <tr>\n",
       "      <th>ID-1602</th>\n",
       "      <td>The Darkest Corners</td>\n",
       "      <td>1319.94</td>\n",
       "      <td>5</td>\n",
       "      <td>0.878543</td>\n",
       "      <td>High</td>\n",
       "    </tr>\n",
       "  </tbody>\n",
       "</table>\n",
       "</div>"
      ],
      "text/plain": [
       "                                                     Title  PriceInRupees  \\\n",
       "BookID                                                                      \n",
       "ID-1639                         An Abundance of Katherines        1165.00   \n",
       "ID-1303                               Greek Mythic History        1191.80   \n",
       "ID-1591  The Power Greens Cookbook: 140 Delicious Super...        1287.33   \n",
       "ID-1317                                 Dear Mr. Knightley        1305.97   \n",
       "ID-1602                                The Darkest Corners        1319.94   \n",
       "\n",
       "         Rating  ValueScore ValueScoreGroup  \n",
       "BookID                                       \n",
       "ID-1639       5    1.000000            High  \n",
       "ID-1303       5    0.976733            High  \n",
       "ID-1591       5    0.901677            High  \n",
       "ID-1317       5    0.888312            High  \n",
       "ID-1602       5    0.878543            High  "
      ]
     },
     "execution_count": 41,
     "metadata": {},
     "output_type": "execute_result"
    }
   ],
   "source": [
    "book_data_6.head()"
   ]
  },
  {
   "cell_type": "code",
   "execution_count": 42,
   "id": "fd56633c-c57a-48d8-959c-7846aafcb182",
   "metadata": {},
   "outputs": [
    {
     "name": "stdout",
     "output_type": "stream",
     "text": [
      "The pearson correlation coefficient between 'Value Score' and 'Rating' is: 0.62\n"
     ]
    }
   ],
   "source": [
    "corr_val = book_data_6[\"ValueScore\"].corr(book_data_6[\"Rating\"])\n",
    "print(f\"The pearson correlation coefficient between 'Value Score' and 'Rating' is: {round(corr_val, 3):.2f}\")"
   ]
  },
  {
   "cell_type": "code",
   "execution_count": 43,
   "id": "5b3840d9-c0ae-44f2-9027-8eb4cac3bfc7",
   "metadata": {},
   "outputs": [
    {
     "name": "stdout",
     "output_type": "stream",
     "text": [
      "The pearson correlation coefficient between 'Value Score' and 'Price' is: -0.63\n"
     ]
    }
   ],
   "source": [
    "corr_val = book_data_6[\"ValueScore\"].corr(book_data_6[\"PriceInRupees\"])\n",
    "print(f\"The pearson correlation coefficient between 'Value Score' and 'Price' is: {round(corr_val, 3):.2f}\")"
   ]
  }
 ],
 "metadata": {
  "kernelspec": {
   "display_name": "Python 3 (ipykernel)",
   "language": "python",
   "name": "python3"
  },
  "language_info": {
   "codemirror_mode": {
    "name": "ipython",
    "version": 3
   },
   "file_extension": ".py",
   "mimetype": "text/x-python",
   "name": "python",
   "nbconvert_exporter": "python",
   "pygments_lexer": "ipython3",
   "version": "3.13.2"
  }
 },
 "nbformat": 4,
 "nbformat_minor": 5
}
