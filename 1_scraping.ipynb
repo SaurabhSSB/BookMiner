{
 "cells": [
  {
   "cell_type": "markdown",
   "id": "6a09c131-a4e5-4788-a98d-59bc3e977820",
   "metadata": {},
   "source": [
    "Downloading Data"
   ]
  },
  {
   "cell_type": "code",
   "execution_count": 1,
   "id": "e17a7fb8-563c-497f-a089-d66a00e8c0db",
   "metadata": {},
   "outputs": [],
   "source": [
    "import requests"
   ]
  },
  {
   "cell_type": "markdown",
   "id": "c9f0d7bf-4129-45bf-ba5a-b3a0fc96d841",
   "metadata": {},
   "source": [
    "for i in range(1,51):\n",
    "    with open(f\"htmls/page{i}.html\", 'w', encoding= 'utf-8') as file:\n",
    "        a= requests.get(f\"https://books.toscrape.com/catalogue/page-{i}.html\")\n",
    "        file.write(a.text)\n",
    "        print(f\"Successfully downloaded page-{i}.\")"
   ]
  },
  {
   "cell_type": "code",
   "execution_count": 2,
   "id": "0d6b1b40-3bb0-4528-9e4e-86eccfdb6339",
   "metadata": {},
   "outputs": [],
   "source": [
    "from bs4 import BeautifulSoup"
   ]
  },
  {
   "cell_type": "code",
   "execution_count": 3,
   "id": "f6a87835-9315-4503-8764-2ac3b660e0c5",
   "metadata": {},
   "outputs": [],
   "source": [
    "with open(\"htmls/page1.html\", \"r\") as file:\n",
    "    content= file.read()"
   ]
  },
  {
   "cell_type": "code",
   "execution_count": 4,
   "id": "9ee9bf2f-9c5c-40f5-bffd-fcc8d612e926",
   "metadata": {},
   "outputs": [],
   "source": [
    "soup= BeautifulSoup(content, \"html.parser\")"
   ]
  },
  {
   "cell_type": "code",
   "execution_count": 5,
   "id": "6748a7c9-0954-4f1e-97db-0082ebe155d5",
   "metadata": {},
   "outputs": [
    {
     "data": {
      "text/plain": [
       "<p class=\"star-rating Three\">\n",
       "<i class=\"icon-star\"></i>\n",
       "<i class=\"icon-star\"></i>\n",
       "<i class=\"icon-star\"></i>\n",
       "<i class=\"icon-star\"></i>\n",
       "<i class=\"icon-star\"></i>\n",
       "</p>"
      ]
     },
     "execution_count": 5,
     "metadata": {},
     "output_type": "execute_result"
    }
   ],
   "source": [
    "soup.find(\"p\")"
   ]
  },
  {
   "cell_type": "code",
   "execution_count": 6,
   "id": "4c1a922a-2026-4cca-b9d3-5b23174d3c49",
   "metadata": {},
   "outputs": [],
   "source": [
    "a= soup.select(\"article.product_pod\")"
   ]
  },
  {
   "cell_type": "code",
   "execution_count": 7,
   "id": "54917be9-cc61-4ed2-9a99-685febe2f4f0",
   "metadata": {},
   "outputs": [
    {
     "data": {
      "text/plain": [
       "'Three'"
      ]
     },
     "execution_count": 7,
     "metadata": {},
     "output_type": "execute_result"
    }
   ],
   "source": [
    "ab_1= a[0].select_one(\"p.star-rating\")['class'][1]\n",
    "ab_1"
   ]
  },
  {
   "cell_type": "code",
   "execution_count": 8,
   "id": "8e7f46cf-32d5-4dc8-9ff8-b4102f88e0e5",
   "metadata": {},
   "outputs": [
    {
     "name": "stdout",
     "output_type": "stream",
     "text": [
      "A Light in the Attic\n"
     ]
    }
   ],
   "source": [
    "ab_2= a[0].select(\"h3\")[0].select(\"a\")[0][\"title\"]\n",
    "print(ab_2)"
   ]
  },
  {
   "cell_type": "code",
   "execution_count": 9,
   "id": "178b1307-87b4-41bf-9a72-90e43a321ec6",
   "metadata": {},
   "outputs": [
    {
     "name": "stdout",
     "output_type": "stream",
     "text": [
      "A Light in the Attic\n"
     ]
    }
   ],
   "source": [
    "ab_3= a[0].select(\"h3 a\")[0][\"title\"]\n",
    "print(ab_3)"
   ]
  },
  {
   "cell_type": "code",
   "execution_count": 10,
   "id": "ca668335-f372-4866-9c04-283201ffaa87",
   "metadata": {},
   "outputs": [],
   "source": [
    "ab_4= a[0].select(\"p.price_color\")[0]\n",
    "price_p= float(ab_4.text.split('£')[1])\n",
    "price_r= price_p* 116.50"
   ]
  },
  {
   "cell_type": "code",
   "execution_count": 11,
   "id": "0849ea20-47be-4328-99f9-c27c31257878",
   "metadata": {},
   "outputs": [
    {
     "name": "stdout",
     "output_type": "stream",
     "text": [
      "Price in pound £51.77.\n",
      "Price in rupees ₹6031.205.\n"
     ]
    }
   ],
   "source": [
    "print(f\"Price in pound £{price_p}.\")\n",
    "print(f\"Price in rupees ₹{price_r}.\")\n",
    "\n",
    "price_pounds= \"£ \"+ str(price_p)\n",
    "price_rupees= \"₹ \"+ str(price_r)"
   ]
  },
  {
   "cell_type": "code",
   "execution_count": 12,
   "id": "8b3c27cf-7683-41b1-bfea-385f3b73e597",
   "metadata": {},
   "outputs": [
    {
     "name": "stdout",
     "output_type": "stream",
     "text": [
      "£ 51.77\n",
      "₹ 6031.205\n"
     ]
    }
   ],
   "source": [
    "print(price_pounds)\n",
    "print(price_rupees)"
   ]
  },
  {
   "cell_type": "code",
   "execution_count": 13,
   "id": "2eed3b7e-3efb-4f07-8bed-c5330b417851",
   "metadata": {},
   "outputs": [
    {
     "data": {
      "text/plain": [
       "'In stock'"
      ]
     },
     "execution_count": 13,
     "metadata": {},
     "output_type": "execute_result"
    }
   ],
   "source": [
    "ab_5= a[0].select(\"p.instock\")[0].text.strip()\n",
    "ab_5"
   ]
  },
  {
   "cell_type": "code",
   "execution_count": 14,
   "id": "5c58ebb1-c0a6-4fa7-91b3-fec3c2829665",
   "metadata": {},
   "outputs": [],
   "source": [
    "articles= soup.select(\"article.product_pod\")"
   ]
  },
  {
   "cell_type": "code",
   "execution_count": 15,
   "id": "7b6b761f-6e0a-4a56-b10a-eac5a93cdd0a",
   "metadata": {},
   "outputs": [
    {
     "data": {
      "text/plain": [
       "[['A Light in the Attic', '₹ 6031.2', 'Three', True],\n",
       " ['Tipping the Velvet', '₹ 6260.71', 'One', True],\n",
       " ['Soumission', '₹ 5836.65', 'One', True],\n",
       " ['Sharp Objects', '₹ 5571.03', 'Four', True],\n",
       " ['Sapiens: A Brief History of Humankind', '₹ 6317.8', 'Five', True],\n",
       " ['The Requiem Red', '₹ 2638.72', 'One', True],\n",
       " ['The Dirty Little Secrets of Getting Your Dream Job',\n",
       "  '₹ 3884.11',\n",
       "  'Four',\n",
       "  True],\n",
       " ['The Coming Woman: A Novel Based on the Life of the Infamous Feminist, Victoria Woodhull',\n",
       "  '₹ 2088.84',\n",
       "  'Three',\n",
       "  True],\n",
       " ['The Boys in the Boat: Nine Americans and Their Epic Quest for Gold at the 1936 Berlin Olympics',\n",
       "  '₹ 2632.9',\n",
       "  'Four',\n",
       "  True],\n",
       " ['The Black Maria', '₹ 6075.47', 'One', True],\n",
       " ['Starving Hearts (Triangular Trade Trilogy, #1)', '₹ 1629.84', 'Two', True],\n",
       " [\"Shakespeare's Sonnets\", '₹ 2406.89', 'Four', True],\n",
       " ['Set Me Free', '₹ 2034.09', 'Five', True],\n",
       " [\"Scott Pilgrim's Precious Little Life (Scott Pilgrim #1)\",\n",
       "  '₹ 6091.78',\n",
       "  'Five',\n",
       "  True],\n",
       " ['Rip it Up and Start Again', '₹ 4079.83', 'Five', True],\n",
       " ['Our Band Could Be Your Life: Scenes from the American Indie Underground, 1981-1991',\n",
       "  '₹ 6669.62',\n",
       "  'Three',\n",
       "  True],\n",
       " ['Olio', '₹ 2782.02', 'One', True],\n",
       " ['Mesaerion: The Best Science Fiction Stories 1800-1849',\n",
       "  '₹ 4379.24',\n",
       "  'One',\n",
       "  True],\n",
       " ['Libertarianism for Beginners', '₹ 5979.94', 'Two', True],\n",
       " [\"It's Only the Himalayas\", '₹ 5262.31', 'Two', True]]"
      ]
     },
     "execution_count": 15,
     "metadata": {},
     "output_type": "execute_result"
    }
   ],
   "source": [
    "book_data= [] \n",
    "for article in articles:\n",
    "    title= article.select(\"h3 a\")[0][\"title\"]\n",
    "    price=  article.select(\"p.price_color\")[0]\n",
    "    price_rupees= \"₹ \"+ str(round((float(price.text.split('£')[1]) * 116.50),2))\n",
    "    rating= article.select_one(\"p.star-rating\")['class'][1]\n",
    "    availability= article.select(\"p.instock\")[0].text.strip() == \"In stock\"\n",
    "    book_data.append([title, price_rupees, rating, availability])\n",
    "\n",
    "book_data"
   ]
  },
  {
   "cell_type": "code",
   "execution_count": 16,
   "id": "08170570-f881-4dde-b34f-45c250d9f5de",
   "metadata": {},
   "outputs": [
    {
     "data": {
      "text/plain": [
       "20"
      ]
     },
     "execution_count": 16,
     "metadata": {},
     "output_type": "execute_result"
    }
   ],
   "source": [
    "len(book_data)"
   ]
  },
  {
   "cell_type": "code",
   "execution_count": 17,
   "id": "79283073-ebc1-4ba4-b8ca-bf3ef8d876c8",
   "metadata": {},
   "outputs": [],
   "source": [
    "import pandas as pd"
   ]
  },
  {
   "cell_type": "code",
   "execution_count": 18,
   "id": "9e7c9106-e21f-42d9-9a14-5c303a643841",
   "metadata": {},
   "outputs": [],
   "source": [
    "data= pd.DataFrame(book_data, columns= [\"Title\", \"Price\",\"Rating\", \"Availability\"])\n",
    "data.index= data.index + 1"
   ]
  },
  {
   "cell_type": "code",
   "execution_count": 19,
   "id": "757f8a59-4284-4ebc-8cc6-e729f5d9914f",
   "metadata": {},
   "outputs": [
    {
     "data": {
      "text/html": [
       "<div>\n",
       "<style scoped>\n",
       "    .dataframe tbody tr th:only-of-type {\n",
       "        vertical-align: middle;\n",
       "    }\n",
       "\n",
       "    .dataframe tbody tr th {\n",
       "        vertical-align: top;\n",
       "    }\n",
       "\n",
       "    .dataframe thead th {\n",
       "        text-align: right;\n",
       "    }\n",
       "</style>\n",
       "<table border=\"1\" class=\"dataframe\">\n",
       "  <thead>\n",
       "    <tr style=\"text-align: right;\">\n",
       "      <th></th>\n",
       "      <th>Title</th>\n",
       "      <th>Price</th>\n",
       "      <th>Rating</th>\n",
       "      <th>Availability</th>\n",
       "    </tr>\n",
       "  </thead>\n",
       "  <tbody>\n",
       "    <tr>\n",
       "      <th>1</th>\n",
       "      <td>A Light in the Attic</td>\n",
       "      <td>₹ 6031.2</td>\n",
       "      <td>Three</td>\n",
       "      <td>True</td>\n",
       "    </tr>\n",
       "    <tr>\n",
       "      <th>2</th>\n",
       "      <td>Tipping the Velvet</td>\n",
       "      <td>₹ 6260.71</td>\n",
       "      <td>One</td>\n",
       "      <td>True</td>\n",
       "    </tr>\n",
       "    <tr>\n",
       "      <th>3</th>\n",
       "      <td>Soumission</td>\n",
       "      <td>₹ 5836.65</td>\n",
       "      <td>One</td>\n",
       "      <td>True</td>\n",
       "    </tr>\n",
       "    <tr>\n",
       "      <th>4</th>\n",
       "      <td>Sharp Objects</td>\n",
       "      <td>₹ 5571.03</td>\n",
       "      <td>Four</td>\n",
       "      <td>True</td>\n",
       "    </tr>\n",
       "    <tr>\n",
       "      <th>5</th>\n",
       "      <td>Sapiens: A Brief History of Humankind</td>\n",
       "      <td>₹ 6317.8</td>\n",
       "      <td>Five</td>\n",
       "      <td>True</td>\n",
       "    </tr>\n",
       "    <tr>\n",
       "      <th>6</th>\n",
       "      <td>The Requiem Red</td>\n",
       "      <td>₹ 2638.72</td>\n",
       "      <td>One</td>\n",
       "      <td>True</td>\n",
       "    </tr>\n",
       "    <tr>\n",
       "      <th>7</th>\n",
       "      <td>The Dirty Little Secrets of Getting Your Dream...</td>\n",
       "      <td>₹ 3884.11</td>\n",
       "      <td>Four</td>\n",
       "      <td>True</td>\n",
       "    </tr>\n",
       "    <tr>\n",
       "      <th>8</th>\n",
       "      <td>The Coming Woman: A Novel Based on the Life of...</td>\n",
       "      <td>₹ 2088.84</td>\n",
       "      <td>Three</td>\n",
       "      <td>True</td>\n",
       "    </tr>\n",
       "    <tr>\n",
       "      <th>9</th>\n",
       "      <td>The Boys in the Boat: Nine Americans and Their...</td>\n",
       "      <td>₹ 2632.9</td>\n",
       "      <td>Four</td>\n",
       "      <td>True</td>\n",
       "    </tr>\n",
       "    <tr>\n",
       "      <th>10</th>\n",
       "      <td>The Black Maria</td>\n",
       "      <td>₹ 6075.47</td>\n",
       "      <td>One</td>\n",
       "      <td>True</td>\n",
       "    </tr>\n",
       "    <tr>\n",
       "      <th>11</th>\n",
       "      <td>Starving Hearts (Triangular Trade Trilogy, #1)</td>\n",
       "      <td>₹ 1629.84</td>\n",
       "      <td>Two</td>\n",
       "      <td>True</td>\n",
       "    </tr>\n",
       "    <tr>\n",
       "      <th>12</th>\n",
       "      <td>Shakespeare's Sonnets</td>\n",
       "      <td>₹ 2406.89</td>\n",
       "      <td>Four</td>\n",
       "      <td>True</td>\n",
       "    </tr>\n",
       "    <tr>\n",
       "      <th>13</th>\n",
       "      <td>Set Me Free</td>\n",
       "      <td>₹ 2034.09</td>\n",
       "      <td>Five</td>\n",
       "      <td>True</td>\n",
       "    </tr>\n",
       "    <tr>\n",
       "      <th>14</th>\n",
       "      <td>Scott Pilgrim's Precious Little Life (Scott Pi...</td>\n",
       "      <td>₹ 6091.78</td>\n",
       "      <td>Five</td>\n",
       "      <td>True</td>\n",
       "    </tr>\n",
       "    <tr>\n",
       "      <th>15</th>\n",
       "      <td>Rip it Up and Start Again</td>\n",
       "      <td>₹ 4079.83</td>\n",
       "      <td>Five</td>\n",
       "      <td>True</td>\n",
       "    </tr>\n",
       "    <tr>\n",
       "      <th>16</th>\n",
       "      <td>Our Band Could Be Your Life: Scenes from the A...</td>\n",
       "      <td>₹ 6669.62</td>\n",
       "      <td>Three</td>\n",
       "      <td>True</td>\n",
       "    </tr>\n",
       "    <tr>\n",
       "      <th>17</th>\n",
       "      <td>Olio</td>\n",
       "      <td>₹ 2782.02</td>\n",
       "      <td>One</td>\n",
       "      <td>True</td>\n",
       "    </tr>\n",
       "    <tr>\n",
       "      <th>18</th>\n",
       "      <td>Mesaerion: The Best Science Fiction Stories 18...</td>\n",
       "      <td>₹ 4379.24</td>\n",
       "      <td>One</td>\n",
       "      <td>True</td>\n",
       "    </tr>\n",
       "    <tr>\n",
       "      <th>19</th>\n",
       "      <td>Libertarianism for Beginners</td>\n",
       "      <td>₹ 5979.94</td>\n",
       "      <td>Two</td>\n",
       "      <td>True</td>\n",
       "    </tr>\n",
       "    <tr>\n",
       "      <th>20</th>\n",
       "      <td>It's Only the Himalayas</td>\n",
       "      <td>₹ 5262.31</td>\n",
       "      <td>Two</td>\n",
       "      <td>True</td>\n",
       "    </tr>\n",
       "  </tbody>\n",
       "</table>\n",
       "</div>"
      ],
      "text/plain": [
       "                                                Title      Price Rating  \\\n",
       "1                                A Light in the Attic   ₹ 6031.2  Three   \n",
       "2                                  Tipping the Velvet  ₹ 6260.71    One   \n",
       "3                                          Soumission  ₹ 5836.65    One   \n",
       "4                                       Sharp Objects  ₹ 5571.03   Four   \n",
       "5               Sapiens: A Brief History of Humankind   ₹ 6317.8   Five   \n",
       "6                                     The Requiem Red  ₹ 2638.72    One   \n",
       "7   The Dirty Little Secrets of Getting Your Dream...  ₹ 3884.11   Four   \n",
       "8   The Coming Woman: A Novel Based on the Life of...  ₹ 2088.84  Three   \n",
       "9   The Boys in the Boat: Nine Americans and Their...   ₹ 2632.9   Four   \n",
       "10                                    The Black Maria  ₹ 6075.47    One   \n",
       "11     Starving Hearts (Triangular Trade Trilogy, #1)  ₹ 1629.84    Two   \n",
       "12                              Shakespeare's Sonnets  ₹ 2406.89   Four   \n",
       "13                                        Set Me Free  ₹ 2034.09   Five   \n",
       "14  Scott Pilgrim's Precious Little Life (Scott Pi...  ₹ 6091.78   Five   \n",
       "15                          Rip it Up and Start Again  ₹ 4079.83   Five   \n",
       "16  Our Band Could Be Your Life: Scenes from the A...  ₹ 6669.62  Three   \n",
       "17                                               Olio  ₹ 2782.02    One   \n",
       "18  Mesaerion: The Best Science Fiction Stories 18...  ₹ 4379.24    One   \n",
       "19                       Libertarianism for Beginners  ₹ 5979.94    Two   \n",
       "20                            It's Only the Himalayas  ₹ 5262.31    Two   \n",
       "\n",
       "    Availability  \n",
       "1           True  \n",
       "2           True  \n",
       "3           True  \n",
       "4           True  \n",
       "5           True  \n",
       "6           True  \n",
       "7           True  \n",
       "8           True  \n",
       "9           True  \n",
       "10          True  \n",
       "11          True  \n",
       "12          True  \n",
       "13          True  \n",
       "14          True  \n",
       "15          True  \n",
       "16          True  \n",
       "17          True  \n",
       "18          True  \n",
       "19          True  \n",
       "20          True  "
      ]
     },
     "execution_count": 19,
     "metadata": {},
     "output_type": "execute_result"
    }
   ],
   "source": [
    "data"
   ]
  },
  {
   "cell_type": "code",
   "execution_count": 20,
   "id": "2b653563-d40e-4fc2-b889-ded9f42cfa17",
   "metadata": {},
   "outputs": [
    {
     "name": "stdout",
     "output_type": "stream",
     "text": [
      "Done 2th time\n",
      "Done 3th time\n",
      "Done 4th time\n",
      "Done 5th time\n",
      "Done 6th time\n",
      "Done 7th time\n",
      "Done 8th time\n",
      "Done 9th time\n",
      "Done 10th time\n",
      "Done 11th time\n",
      "Done 12th time\n",
      "Done 13th time\n",
      "Done 14th time\n",
      "Done 15th time\n",
      "Done 16th time\n",
      "Done 17th time\n",
      "Done 18th time\n",
      "Done 19th time\n",
      "Done 20th time\n",
      "Done 21th time\n",
      "Done 22th time\n",
      "Done 23th time\n",
      "Done 24th time\n",
      "Done 25th time\n",
      "Done 26th time\n",
      "Done 27th time\n",
      "Done 28th time\n",
      "Done 29th time\n",
      "Done 30th time\n",
      "Done 31th time\n",
      "Done 32th time\n",
      "Done 33th time\n",
      "Done 34th time\n",
      "Done 35th time\n",
      "Done 36th time\n",
      "Done 37th time\n",
      "Done 38th time\n",
      "Done 39th time\n",
      "Done 40th time\n",
      "Done 41th time\n",
      "Done 42th time\n",
      "Done 43th time\n",
      "Done 44th time\n",
      "Done 45th time\n",
      "Done 46th time\n",
      "Done 47th time\n",
      "Done 48th time\n",
      "Done 49th time\n",
      "Done 50th time\n"
     ]
    }
   ],
   "source": [
    "for i in range(2, 51):\n",
    "    with open(f\"htmls/page{i}.html\", \"r\", encoding= \"utf-8\") as file:\n",
    "        content= file.read()\n",
    "    soup= BeautifulSoup(content, \"html.parser\")\n",
    "    articles= soup.select(\"article.product_pod\")\n",
    "    book_data= [] \n",
    "    for article in articles:\n",
    "        title= article.select(\"h3 a\")[0][\"title\"]\n",
    "        price=  article.select(\"p.price_color\")[0]\n",
    "        price_rupees= \"₹ \"+ str(round((float(price.text.split('£')[1]) * 116.50),2))\n",
    "        rating= article.select_one(\"p.star-rating\")['class'][1]\n",
    "        availability= article.select(\"p.instock\")[0].text.strip() == \"In stock\"\n",
    "        book_data.append([title, price_rupees, rating, availability])\n",
    "\n",
    "    df_dummy= pd.DataFrame(book_data, columns= [\"Title\", \"Price\",\"Rating\", \"Availability\"])\n",
    "    data= pd.concat([data, df_dummy],  ignore_index= True)\n",
    "    print(f\"Done {i}th time\")"
   ]
  },
  {
   "cell_type": "code",
   "execution_count": 21,
   "id": "fd68f2b5-18ea-4ae2-8949-010d59f47793",
   "metadata": {},
   "outputs": [
    {
     "name": "stdout",
     "output_type": "stream",
     "text": [
      "(1000, 4)\n"
     ]
    },
    {
     "data": {
      "text/html": [
       "<div>\n",
       "<style scoped>\n",
       "    .dataframe tbody tr th:only-of-type {\n",
       "        vertical-align: middle;\n",
       "    }\n",
       "\n",
       "    .dataframe tbody tr th {\n",
       "        vertical-align: top;\n",
       "    }\n",
       "\n",
       "    .dataframe thead th {\n",
       "        text-align: right;\n",
       "    }\n",
       "</style>\n",
       "<table border=\"1\" class=\"dataframe\">\n",
       "  <thead>\n",
       "    <tr style=\"text-align: right;\">\n",
       "      <th></th>\n",
       "      <th>Title</th>\n",
       "      <th>Price</th>\n",
       "      <th>Rating</th>\n",
       "      <th>Availability</th>\n",
       "    </tr>\n",
       "  </thead>\n",
       "  <tbody>\n",
       "    <tr>\n",
       "      <th>1</th>\n",
       "      <td>A Light in the Attic</td>\n",
       "      <td>₹ 6031.2</td>\n",
       "      <td>Three</td>\n",
       "      <td>True</td>\n",
       "    </tr>\n",
       "    <tr>\n",
       "      <th>2</th>\n",
       "      <td>Tipping the Velvet</td>\n",
       "      <td>₹ 6260.71</td>\n",
       "      <td>One</td>\n",
       "      <td>True</td>\n",
       "    </tr>\n",
       "    <tr>\n",
       "      <th>3</th>\n",
       "      <td>Soumission</td>\n",
       "      <td>₹ 5836.65</td>\n",
       "      <td>One</td>\n",
       "      <td>True</td>\n",
       "    </tr>\n",
       "    <tr>\n",
       "      <th>4</th>\n",
       "      <td>Sharp Objects</td>\n",
       "      <td>₹ 5571.03</td>\n",
       "      <td>Four</td>\n",
       "      <td>True</td>\n",
       "    </tr>\n",
       "    <tr>\n",
       "      <th>5</th>\n",
       "      <td>Sapiens: A Brief History of Humankind</td>\n",
       "      <td>₹ 6317.8</td>\n",
       "      <td>Five</td>\n",
       "      <td>True</td>\n",
       "    </tr>\n",
       "  </tbody>\n",
       "</table>\n",
       "</div>"
      ],
      "text/plain": [
       "                                   Title      Price Rating  Availability\n",
       "1                   A Light in the Attic   ₹ 6031.2  Three          True\n",
       "2                     Tipping the Velvet  ₹ 6260.71    One          True\n",
       "3                             Soumission  ₹ 5836.65    One          True\n",
       "4                          Sharp Objects  ₹ 5571.03   Four          True\n",
       "5  Sapiens: A Brief History of Humankind   ₹ 6317.8   Five          True"
      ]
     },
     "execution_count": 21,
     "metadata": {},
     "output_type": "execute_result"
    }
   ],
   "source": [
    "data.index= data.index+1\n",
    "print(data.shape)\n",
    "data.head()"
   ]
  },
  {
   "cell_type": "code",
   "execution_count": 23,
   "id": "34309bda-c0ee-4343-b783-7866d81ad168",
   "metadata": {},
   "outputs": [],
   "source": [
    " data.to_csv(\"DATA.csv\", index=False)"
   ]
  },
  {
   "cell_type": "markdown",
   "id": "4f11b9aa-dc24-4800-9420-14d082d69f58",
   "metadata": {},
   "source": [
    "import mysql.connector\n",
    "\n",
    "conn = mysql.connector.connect(\n",
    "    host='localhost', user='root', password='Saurabh@2002', database='booksdb'\n",
    ")\n",
    "cursor = conn.cursor()\n",
    "\n",
    "query = \"INSERT INTO books (Title, Price, Rating, Availability) VALUES (%s, %s, %s, %s)\"\n",
    "\n",
    "for _, row in data.iterrows():\n",
    "    cursor.execute(query, (row['Title'], row['Price'], row['Rating'], row['Availability']))\n",
    "\n",
    "conn.commit()\n",
    "conn.close()"
   ]
  },
  {
   "cell_type": "code",
   "execution_count": null,
   "id": "6ce57da2-70cb-4d93-a1d6-36a94374036c",
   "metadata": {},
   "outputs": [],
   "source": []
  }
 ],
 "metadata": {
  "kernelspec": {
   "display_name": "Python 3 (ipykernel)",
   "language": "python",
   "name": "python3"
  },
  "language_info": {
   "codemirror_mode": {
    "name": "ipython",
    "version": 3
   },
   "file_extension": ".py",
   "mimetype": "text/x-python",
   "name": "python",
   "nbconvert_exporter": "python",
   "pygments_lexer": "ipython3",
   "version": "3.13.2"
  }
 },
 "nbformat": 4,
 "nbformat_minor": 5
}
